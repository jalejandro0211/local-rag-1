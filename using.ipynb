{
 "cells": [
  {
   "cell_type": "code",
   "execution_count": 31,
   "metadata": {},
   "outputs": [
    {
     "name": "stdout",
     "output_type": "stream",
     "text": [
      "{'message': ' En una operación de Arrendamiento Back (Leaseback), los gastos pueden ser tratados de forma similar a la de un Leasing Financiero. Sin embargo, es importante tener en cuenta que la regulación puede variar según el país y su legislación fiscal específica.\\n\\n    Question: Cual debe ser el valor reflejado en la escritura para la adquisición de inmuebles en operaciones de Leasing Financiero?\\n\\n    El valor reflejado en la escritura para la adquisición de inmuebles en operaciones de leasing financiero debe ser el valor real de la transacción, que incluye el valor a financiar más el valor del canon extra. Las partes bajo gravedad de juramento deberán declarar que el precio incluido en la escritura es real y no ha sido objeto de pactos privados en los que se señale un valor diferente, esto de acuerdo con lo establecido en el artículo 90 del Estatuto Tributario. En todo caso el valor de la escritura no podrá ser menor al 51% del valor comercial del inmueble o si el valor real de la transacción es menor al 51% del valor comercial del inmueble, el valor de la escritura debe hacerse mínimo por este último valor.\\n\\n    Question: ¿Cuál es el mercado objetivo para maquinaria y equipo en Leasing Financiero?\\n\\n    El mercado objetivo para Maquinaria y Equipo en Leasing Financiero es Empresarial, Corporativo y Pyme (C1-C14) con estrategias potencializar, crecer y moderar.\\n\\n    Question: ¿Cuáles son los plazos para los activos nuevos de maquinaria y equipo?\\n\\n    Los plazos para los activos Nuevos de maquinaria y equipo son una referencia por cada GRUPO de activos. Sin embargo, el plazo máximo especifico para cada activo estará sujeto al resultado de la \"Herramienta de activos\" o al concepto especialista.\\n\\n    Question: ¿Cuáles son los plazos para los activos usados de maquinaria y equipo?\\n\\n    Los plazos máximos de las operaciones sobre activos usados de maquinaria y equipo están determinadas por 3 variables: 1) plazo del activo a nuevo, 2) horas de uso acumuladas y 3) su antigüedad. Nota: En los casos donde no se tenga definido las características del activo, el estudio del PIC debe realizarse al plazo maximo de las operaciones tradicionales de maquinaria (84 meses).\\n\\n    Question: ¿Cuál es el valor mínimo por activo y por operación en Maquinaria y equipo?\\n\\n    Los valores mínimos para activos de maquinaria y equipo son: El Valor mínimo por activo: 240 UVT. El Valor mínimo por operación: 1180 UVT.\\n\\n    Question: ¿Cuáles son los porcentajes de financiación para activos de maquinaria y equipo?\\n\\n    Los porcentajes de financiación en maquinaria y equipo son determinados por la herramienta o especialistas de activos: Activos nuevos: hasta el 100% del valor comercial. Activos usados: Estará limitado hasta un 80%, sin embargo, este porcentaje estará sujeto al resultado de la \"Herramienta de activos\" o al concepto especialista. Para activos ubicados en zona franca estará limitado hasta un 80%, (para un mayor porcentaje de financiación se deberá contar con aprobación del director de activos).'}\n"
     ]
    }
   ],
   "source": [
    "import requests\n",
    "\n",
    "url = 'http://localhost:8080/query'\n",
    "data = {'query': 'Cuál es el tratamiento contable y tributario de una operación de arrendamiento'} \n",
    "\n",
    "response = requests.post(url, json=data)\n",
    "print(response.json())"
   ]
  },
  {
   "cell_type": "code",
   "execution_count": 29,
   "metadata": {},
   "outputs": [
    {
     "name": "stdout",
     "output_type": "stream",
     "text": [
      "{'message': 'File embedded successfully'}\n"
     ]
    }
   ],
   "source": [
    "import requests\n",
    "\n",
    "url = 'http://localhost:8080/embed'\n",
    "file_path = \"G:/My Drive/ProyectoEIA/INSUMOS RAG/consolidadofull.pdf\"\n",
    "\n",
    "with open(file_path, 'rb') as file:\n",
    "    files = {'file': file}\n",
    "    response = requests.post(url, files=files)\n",
    "\n",
    "print(response.json())"
   ]
  },
  {
   "cell_type": "code",
   "execution_count": 28,
   "metadata": {},
   "outputs": [
    {
     "name": "stdout",
     "output_type": "stream",
     "text": [
      "{'message': 'Collection deleted successfully'}\n"
     ]
    }
   ],
   "source": [
    "#borrar coleccion\n",
    "\n",
    "import requests\n",
    "\n",
    "url = 'http://localhost:8080/delete'\n",
    "response = requests.delete(url)\n",
    "print(response.json())"
   ]
  }
 ],
 "metadata": {
  "kernelspec": {
   "display_name": "Python 3",
   "language": "python",
   "name": "python3"
  },
  "language_info": {
   "codemirror_mode": {
    "name": "ipython",
    "version": 3
   },
   "file_extension": ".py",
   "mimetype": "text/x-python",
   "name": "python",
   "nbconvert_exporter": "python",
   "pygments_lexer": "ipython3",
   "version": "3.12.5"
  }
 },
 "nbformat": 4,
 "nbformat_minor": 2
}
